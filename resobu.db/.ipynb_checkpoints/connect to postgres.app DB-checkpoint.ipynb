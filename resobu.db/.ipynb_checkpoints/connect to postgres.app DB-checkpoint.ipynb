{
 "cells": [
  {
   "cell_type": "markdown",
   "metadata": {},
   "source": [
    "# Notebook to connect to local postgres.app DB"
   ]
  },
  {
   "cell_type": "markdown",
   "metadata": {},
   "source": [
    "### Import necessary packages"
   ]
  },
  {
   "cell_type": "code",
   "execution_count": 1,
   "metadata": {
    "ExecuteTime": {
     "end_time": "2020-05-18T12:10:57.576519Z",
     "start_time": "2020-05-18T12:10:49.742697Z"
    }
   },
   "outputs": [],
   "source": [
    "import numpy as np\n",
    "import pandas as pd"
   ]
  },
  {
   "cell_type": "code",
   "execution_count": 2,
   "metadata": {
    "ExecuteTime": {
     "end_time": "2020-05-18T12:11:04.640373Z",
     "start_time": "2020-05-18T12:11:03.909371Z"
    }
   },
   "outputs": [],
   "source": [
    "from sqlalchemy import Table, MetaData, create_engine\n",
    "from sqlalchemy.orm import sessionmaker\n",
    "from db_helper_module import (EmployeesTable, create_db_table, insert_row, get_row_data_list, get_row_data_list)\n",
    "import db_helper_module as dbhm"
   ]
  },
  {
   "cell_type": "markdown",
   "metadata": {},
   "source": [
    "### Connect to the DB using sqalchemy"
   ]
  },
  {
   "cell_type": "code",
   "execution_count": 3,
   "metadata": {},
   "outputs": [],
   "source": [
    "engine = create_engine('postgresql://localhost/resobu_test')\n",
    "Session = sessionmaker(bind=engine)\n",
    "session = Session()\n",
    "metadata = MetaData()"
   ]
  },
  {
   "cell_type": "markdown",
   "metadata": {},
   "source": [
    "### List of table names in the DB"
   ]
  },
  {
   "cell_type": "code",
   "execution_count": 29,
   "metadata": {
    "ExecuteTime": {
     "end_time": "2020-05-18T12:11:13.316850Z",
     "start_time": "2020-05-18T12:11:13.071861Z"
    }
   },
   "outputs": [
    {
     "data": {
      "text/plain": [
       "['employees']"
      ]
     },
     "execution_count": 29,
     "metadata": {},
     "output_type": "execute_result"
    }
   ],
   "source": [
    "engine.table_names()"
   ]
  },
  {
   "cell_type": "markdown",
   "metadata": {},
   "source": [
    "### Create a table"
   ]
  },
  {
   "cell_type": "code",
   "execution_count": 7,
   "metadata": {},
   "outputs": [
    {
     "data": {
      "text/plain": [
       "'Table successfully created.'"
      ]
     },
     "execution_count": 7,
     "metadata": {},
     "output_type": "execute_result"
    }
   ],
   "source": [
    "create_db_table(EmployeesTable, engine)"
   ]
  },
  {
   "cell_type": "markdown",
   "metadata": {},
   "source": [
    "### Drop a table"
   ]
  },
  {
   "cell_type": "code",
   "execution_count": 5,
   "metadata": {},
   "outputs": [],
   "source": [
    "EmployeesTable.__table__.drop(engine)"
   ]
  },
  {
   "cell_type": "markdown",
   "metadata": {},
   "source": [
    "### Insert rows to table directly"
   ]
  },
  {
   "cell_type": "code",
   "execution_count": 34,
   "metadata": {},
   "outputs": [],
   "source": [
    "user_sub_id = 'user123'\n",
    "input_dict = {'employeeEmail': '14dsd@test.com', 'teamColleagues': ['1','2','3'],'userSubId': user_sub_id}"
   ]
  },
  {
   "cell_type": "code",
   "execution_count": 35,
   "metadata": {},
   "outputs": [
    {
     "data": {
      "text/plain": [
       "'Add successful'"
      ]
     },
     "execution_count": 35,
     "metadata": {},
     "output_type": "execute_result"
    }
   ],
   "source": [
    "insert_row(EmployeesTable, input_dict, engine, session)"
   ]
  },
  {
   "cell_type": "markdown",
   "metadata": {},
   "source": [
    "### Check which rows have been added for a certain user_sub_id"
   ]
  },
  {
   "cell_type": "code",
   "execution_count": 36,
   "metadata": {},
   "outputs": [],
   "source": [
    "filter_key = 'userSubId'\n",
    "employees_field_list = EmployeesTable.__table__.columns.keys()"
   ]
  },
  {
   "cell_type": "code",
   "execution_count": 58,
   "metadata": {},
   "outputs": [
    {
     "data": {
      "text/plain": [
       "[{'userSubId': 'user123',\n",
       "  'employeeEmail': '1@test.com',\n",
       "  'connectedColleagues': None,\n",
       "  'teamColleagues': None,\n",
       "  'employeeId': 1,\n",
       "  'projectColleagues': None},\n",
       " {'userSubId': 'user123',\n",
       "  'employeeEmail': '14@test.com',\n",
       "  'connectedColleagues': None,\n",
       "  'teamColleagues': None,\n",
       "  'employeeId': 2,\n",
       "  'projectColleagues': None},\n",
       " {'userSubId': 'user123',\n",
       "  'employeeEmail': '14s@test.com',\n",
       "  'connectedColleagues': None,\n",
       "  'teamColleagues': None,\n",
       "  'employeeId': 3,\n",
       "  'projectColleagues': None},\n",
       " {'userSubId': 'user123',\n",
       "  'employeeEmail': '146@test.com',\n",
       "  'connectedColleagues': None,\n",
       "  'teamColleagues': ['1', '2', '3'],\n",
       "  'employeeId': 5,\n",
       "  'projectColleagues': None},\n",
       " {'userSubId': 'user123',\n",
       "  'employeeEmail': '146d@test.com',\n",
       "  'connectedColleagues': None,\n",
       "  'teamColleagues': ['1', '2', '3'],\n",
       "  'employeeId': 6,\n",
       "  'projectColleagues': None},\n",
       " {'userSubId': 'user123',\n",
       "  'employeeEmail': '14dsd@test.com',\n",
       "  'connectedColleagues': None,\n",
       "  'teamColleagues': ['1', '2', '3'],\n",
       "  'employeeId': 8,\n",
       "  'projectColleagues': ['add', 'adfaf']}]"
      ]
     },
     "execution_count": 58,
     "metadata": {},
     "output_type": "execute_result"
    }
   ],
   "source": [
    "get_row_data_list(user_sub_id, filter_key, employees_field_list, EmployeesTable, engine, session)"
   ]
  },
  {
   "cell_type": "markdown",
   "metadata": {},
   "source": [
    "### delte a row based on the employee id"
   ]
  },
  {
   "cell_type": "code",
   "execution_count": 38,
   "metadata": {},
   "outputs": [],
   "source": [
    "table = dbhm.__dict__['EmployeesTable']\n",
    "user_sub = 'user123'\n",
    "usertoken_column_name = \"userSubId\"\n",
    "uid = 7\n",
    "uid_column_name = \"employeeId\""
   ]
  },
  {
   "cell_type": "code",
   "execution_count": 39,
   "metadata": {},
   "outputs": [],
   "source": [
    "filter_rule = (getattr(table,uid_column_name) == uid) & (getattr(table, usertoken_column_name) == user_sub)\n"
   ]
  },
  {
   "cell_type": "code",
   "execution_count": 40,
   "metadata": {},
   "outputs": [
    {
     "name": "stdout",
     "output_type": "stream",
     "text": [
      "1 records were deleted\n"
     ]
    }
   ],
   "source": [
    "num_entries_deleted = session.query(table).filter(filter_rule).delete()\n",
    "print(f\"{num_entries_deleted} records were deleted\")"
   ]
  },
  {
   "cell_type": "markdown",
   "metadata": {},
   "source": [
    "### Edit a row value"
   ]
  },
  {
   "cell_type": "code",
   "execution_count": 56,
   "metadata": {},
   "outputs": [],
   "source": [
    "table_name = 'EmployeesTable'\n",
    "col_id = 8\n",
    "col_name_new_value = 'projectColleagues'\n",
    "new_value = ['add','adfaf']"
   ]
  },
  {
   "cell_type": "code",
   "execution_count": 57,
   "metadata": {},
   "outputs": [
    {
     "name": "stdout",
     "output_type": "stream",
     "text": [
      "<db_helper_module.EmployeesTable object at 0x10ee86610>\n"
     ]
    }
   ],
   "source": [
    "if table_name == 'EmployeesTable':\n",
    "    if col_name_new_value not in employees_field_list:\n",
    "        print('Problem')\n",
    "\n",
    "    # Try to add to table\n",
    "    row = session.query(dbhm.EmployeesTable).filter(\n",
    "        dbhm.EmployeesTable.employeeId == col_id).first()\n",
    "    print(row)\n",
    "    setattr(row, col_name_new_value, new_value)\n",
    "    session.add(row)\n",
    "    session.commit()\n",
    "    session.flush()"
   ]
  },
  {
   "cell_type": "markdown",
   "metadata": {},
   "source": [
    "### Clean up the connection"
   ]
  },
  {
   "cell_type": "code",
   "execution_count": null,
   "metadata": {},
   "outputs": [],
   "source": [
    "connection.close()"
   ]
  },
  {
   "cell_type": "code",
   "execution_count": 46,
   "metadata": {},
   "outputs": [
    {
     "data": {
      "text/plain": [
       "<sqlalchemy.sql.base.ImmutableColumnCollection at 0x10dfd3e00>"
      ]
     },
     "execution_count": 46,
     "metadata": {},
     "output_type": "execute_result"
    }
   ],
   "source": [
    "table_name = 'EmployeeTable'\n",
    "dbhm.EmployeesTable.__table__.columns"
   ]
  },
  {
   "cell_type": "code",
   "execution_count": null,
   "metadata": {},
   "outputs": [],
   "source": []
  }
 ],
 "metadata": {
  "kernelspec": {
   "display_name": "resobu.db",
   "language": "python",
   "name": "resobu.db"
  },
  "language_info": {
   "codemirror_mode": {
    "name": "ipython",
    "version": 3
   },
   "file_extension": ".py",
   "mimetype": "text/x-python",
   "name": "python",
   "nbconvert_exporter": "python",
   "pygments_lexer": "ipython3",
   "version": "3.8.5"
  },
  "latex_envs": {
   "LaTeX_envs_menu_present": true,
   "autoclose": false,
   "autocomplete": true,
   "bibliofile": "biblio.bib",
   "cite_by": "apalike",
   "current_citInitial": 1,
   "eqLabelWithNumbers": true,
   "eqNumInitial": 1,
   "hotkeys": {
    "equation": "Ctrl-E",
    "itemize": "Ctrl-I"
   },
   "labels_anchors": false,
   "latex_user_defs": false,
   "report_style_numbering": false,
   "user_envs_cfg": false
  },
  "toc": {
   "base_numbering": 1,
   "nav_menu": {},
   "number_sections": true,
   "sideBar": true,
   "skip_h1_title": false,
   "title_cell": "Table of Contents",
   "title_sidebar": "Contents",
   "toc_cell": false,
   "toc_position": {},
   "toc_section_display": true,
   "toc_window_display": false
  },
  "varInspector": {
   "cols": {
    "lenName": 16,
    "lenType": 16,
    "lenVar": 40
   },
   "kernels_config": {
    "python": {
     "delete_cmd_postfix": "",
     "delete_cmd_prefix": "del ",
     "library": "var_list.py",
     "varRefreshCmd": "print(var_dic_list())"
    },
    "r": {
     "delete_cmd_postfix": ") ",
     "delete_cmd_prefix": "rm(",
     "library": "var_list.r",
     "varRefreshCmd": "cat(var_dic_list()) "
    }
   },
   "types_to_exclude": [
    "module",
    "function",
    "builtin_function_or_method",
    "instance",
    "_Feature"
   ],
   "window_display": false
  }
 },
 "nbformat": 4,
 "nbformat_minor": 2
}
