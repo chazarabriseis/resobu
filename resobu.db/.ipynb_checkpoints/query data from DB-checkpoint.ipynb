{
 "cells": [
  {
   "cell_type": "markdown",
   "metadata": {},
   "source": [
    "# Notebook to replace the pgadmin which we use to query our DB"
   ]
  },
  {
   "cell_type": "markdown",
   "metadata": {},
   "source": [
    "### Import necessary packages"
   ]
  },
  {
   "cell_type": "code",
   "execution_count": 1,
   "metadata": {
    "ExecuteTime": {
     "end_time": "2020-05-18T12:10:57.576519Z",
     "start_time": "2020-05-18T12:10:49.742697Z"
    }
   },
   "outputs": [
    {
     "ename": "ModuleNotFoundError",
     "evalue": "No module named 'numpy'",
     "output_type": "error",
     "traceback": [
      "\u001b[0;31m---------------------------------------------------------------------------\u001b[0m",
      "\u001b[0;31mModuleNotFoundError\u001b[0m                       Traceback (most recent call last)",
      "\u001b[0;32m<ipython-input-1-c346cb354e69>\u001b[0m in \u001b[0;36m<module>\u001b[0;34m\u001b[0m\n\u001b[0;32m----> 1\u001b[0;31m \u001b[0;32mimport\u001b[0m \u001b[0mnumpy\u001b[0m \u001b[0;32mas\u001b[0m \u001b[0mnp\u001b[0m\u001b[0;34m\u001b[0m\u001b[0;34m\u001b[0m\u001b[0m\n\u001b[0m\u001b[1;32m      2\u001b[0m \u001b[0;32mimport\u001b[0m \u001b[0mpickle\u001b[0m\u001b[0;34m\u001b[0m\u001b[0;34m\u001b[0m\u001b[0m\n\u001b[1;32m      3\u001b[0m \u001b[0;32mimport\u001b[0m \u001b[0mpandas\u001b[0m \u001b[0;32mas\u001b[0m \u001b[0mpd\u001b[0m\u001b[0;34m\u001b[0m\u001b[0;34m\u001b[0m\u001b[0m\n\u001b[1;32m      4\u001b[0m \u001b[0;32mimport\u001b[0m \u001b[0mmatplotlib\u001b[0m\u001b[0;34m.\u001b[0m\u001b[0mpyplot\u001b[0m \u001b[0;32mas\u001b[0m \u001b[0mplt\u001b[0m\u001b[0;34m\u001b[0m\u001b[0;34m\u001b[0m\u001b[0m\n\u001b[1;32m      5\u001b[0m \u001b[0;32mimport\u001b[0m \u001b[0mmatplotlib\u001b[0m\u001b[0;34m\u001b[0m\u001b[0;34m\u001b[0m\u001b[0m\n",
      "\u001b[0;31mModuleNotFoundError\u001b[0m: No module named 'numpy'"
     ]
    }
   ],
   "source": [
    "import numpy as np\n",
    "import pickle\n",
    "import pandas as pd\n",
    "import matplotlib.pyplot as plt\n",
    "import matplotlib"
   ]
  },
  {
   "cell_type": "code",
   "execution_count": 2,
   "metadata": {
    "ExecuteTime": {
     "end_time": "2020-05-18T12:11:04.640373Z",
     "start_time": "2020-05-18T12:11:03.909371Z"
    },
    "collapsed": true
   },
   "outputs": [],
   "source": [
    "from sqlalchemy import Table, MetaData\n",
    "from db_helper_module import (EmployeesTable,\n",
    "                              generate_engine,\n",
    "                              generate_session,\n",
    "                             get_row_data_list)"
   ]
  },
  {
   "cell_type": "markdown",
   "metadata": {},
   "source": [
    "### Onle the Data science Team has the credentials, so get in touch with them. They have read only credentials\n",
    "\n",
    "Connect to the DB creating an egine using sqlalchemy"
   ]
  },
  {
   "cell_type": "code",
   "execution_count": 3,
   "metadata": {
    "ExecuteTime": {
     "end_time": "2020-05-18T12:11:10.054923Z",
     "start_time": "2020-05-18T12:11:08.182968Z"
    },
    "collapsed": true
   },
   "outputs": [],
   "source": [
    "# Setup db connection\n",
    "filepath_db_credentials = '/Users/chazarabriseis/Documents/Datascience/Scripts/bitbucket/remoteSocialButterfly/resobu.db/resobu_db_cred'"
   ]
  },
  {
   "cell_type": "code",
   "execution_count": 4,
   "metadata": {},
   "outputs": [
    {
     "name": "stdout",
     "output_type": "stream",
     "text": [
      "Session opened\n"
     ]
    }
   ],
   "source": [
    "engine = generate_engine(filepath_db_credentials)\n",
    "session = generate_session(engine)\n",
    "if session:\n",
    "    print(\"Session opened\")"
   ]
  },
  {
   "cell_type": "markdown",
   "metadata": {},
   "source": [
    "### List of table names in the DB"
   ]
  },
  {
   "cell_type": "code",
   "execution_count": 5,
   "metadata": {},
   "outputs": [
    {
     "data": {
      "text/plain": [
       "['employee_id',\n",
       " 'employee_email',\n",
       " 'project_colleagues',\n",
       " 'team_colleagues',\n",
       " 'connected_colleagues']"
      ]
     },
     "execution_count": 5,
     "metadata": {},
     "output_type": "execute_result"
    }
   ],
   "source": [
    "employees_field_list = EmployeesTable.__table__.columns.keys()\n",
    "employees_field_list"
   ]
  },
  {
   "cell_type": "code",
   "execution_count": 6,
   "metadata": {},
   "outputs": [
    {
     "data": {
      "text/plain": [
       "sqlalchemy.exc.OperationalError('(psycopg2.OperationalError) could not connect to server: Operation timed out\\n\\tIs the server running on host \"resobudb.c0bjua9tjqrp.eu-central-1.rds.amazonaws.com\" (3.124.126.191) and accepting\\n\\tTCP/IP connections on port 5432?\\n Check that field values in list exist in table')"
      ]
     },
     "execution_count": 6,
     "metadata": {},
     "output_type": "execute_result"
    }
   ],
   "source": [
    "filter_key = 'user_sub_id'\n",
    "user_sub = ''\n",
    "# filter result based on user id to only return relevant results\n",
    "result = get_row_data_list(user_sub, filter_key,\n",
    "                                       employees_field_list,\n",
    "                                       EmployeesTable,\n",
    "                                       engine, session)\n",
    "result"
   ]
  },
  {
   "cell_type": "code",
   "execution_count": null,
   "metadata": {
    "ExecuteTime": {
     "end_time": "2020-05-18T12:11:13.316850Z",
     "start_time": "2020-05-18T12:11:13.071861Z"
    },
    "collapsed": true
   },
   "outputs": [],
   "source": [
    "metadata = MetaData()\n",
    "engine.table_names()"
   ]
  },
  {
   "cell_type": "markdown",
   "metadata": {},
   "source": [
    "### Change here the table name that you are interested in"
   ]
  },
  {
   "cell_type": "code",
   "execution_count": null,
   "metadata": {
    "ExecuteTime": {
     "end_time": "2020-05-18T12:11:46.534665Z",
     "start_time": "2020-05-18T12:11:46.530668Z"
    },
    "collapsed": true
   },
   "outputs": [],
   "source": [
    "table_of_interest = 'employees'\n",
    "table = Table(table_of_interest, metadata, autoload=True, autoload_with=engine)"
   ]
  },
  {
   "cell_type": "markdown",
   "metadata": {},
   "source": [
    "### Overview of columns in the table"
   ]
  },
  {
   "cell_type": "code",
   "execution_count": null,
   "metadata": {
    "ExecuteTime": {
     "end_time": "2020-05-18T12:11:47.493659Z",
     "start_time": "2020-05-18T12:11:47.484647Z"
    },
    "collapsed": true
   },
   "outputs": [],
   "source": [
    "table.columns.keys()"
   ]
  },
  {
   "cell_type": "markdown",
   "metadata": {},
   "source": [
    "### Get entries from the table\n",
    "To get the several results use fetchmany(number of results), to fetch all fetchall() and for just one fetchone()\n",
    "\n",
    "Examples for the quereis with sqlalchemy can befound here. SImple add query after query to the stmt statement.\n",
    "http://www.rmunn.com/sqlalchemy-tutorial/tutorial.html"
   ]
  },
  {
   "cell_type": "code",
   "execution_count": null,
   "metadata": {
    "ExecuteTime": {
     "end_time": "2020-05-18T12:11:52.613539Z",
     "start_time": "2020-05-18T12:11:52.609523Z"
    },
    "collapsed": true
   },
   "outputs": [],
   "source": [
    "from sqlalchemy import or_, select, and_, not_, func"
   ]
  },
  {
   "cell_type": "code",
   "execution_count": null,
   "metadata": {
    "ExecuteTime": {
     "end_time": "2020-05-18T12:11:54.727474Z",
     "start_time": "2020-05-18T12:11:54.655510Z"
    },
    "collapsed": true
   },
   "outputs": [],
   "source": [
    "stmt = select([table])\n",
    "first_results = connection.execute(stmt).fetchmany(5)\n",
    "pd.DataFrame(first_results)"
   ]
  },
  {
   "cell_type": "code",
   "execution_count": null,
   "metadata": {
    "collapsed": true
   },
   "outputs": [],
   "source": [
    "stmt = select([table])\n",
    "stmt = stmt.where(table.columns.device_sn == 'T6-039')\n",
    "results = connection.execute(stmt).fetchall()\n",
    "pd.DataFrame(results)"
   ]
  },
  {
   "cell_type": "code",
   "execution_count": null,
   "metadata": {
    "ExecuteTime": {
     "end_time": "2020-05-18T12:13:58.058780Z",
     "start_time": "2020-05-18T12:13:58.049772Z"
    },
    "collapsed": true
   },
   "outputs": [],
   "source": [
    "sub_id = '90ec6d98-7b50-4d94-98fb-104d4e7a12ea'\n",
    "table_of_interest = 'capillaries'\n",
    "table = Table(table_of_interest, metadata, autoload=True, autoload_with=engine)\n",
    "table.columns.keys()"
   ]
  },
  {
   "cell_type": "code",
   "execution_count": null,
   "metadata": {
    "ExecuteTime": {
     "end_time": "2020-05-18T12:16:53.674803Z",
     "start_time": "2020-05-18T12:14:49.861855Z"
    },
    "collapsed": true
   },
   "outputs": [],
   "source": [
    "stmt = select([table])\n",
    "first_results = connection.execute(stmt).fetchmany(5)\n",
    "pd.DataFrame(first_results)"
   ]
  },
  {
   "cell_type": "code",
   "execution_count": null,
   "metadata": {
    "ExecuteTime": {
     "end_time": "2020-05-18T12:34:21.337665Z",
     "start_time": "2020-05-18T12:34:19.849712Z"
    },
    "collapsed": true
   },
   "outputs": [],
   "source": [
    "stmt = select([table])\n",
    "stmt = stmt.where(table.columns.capillary_id.contains(sub_id))\n",
    "results = connection.execute(stmt).fetchall()\n",
    "df = pd.DataFrame(results)"
   ]
  },
  {
   "cell_type": "code",
   "execution_count": null,
   "metadata": {
    "ExecuteTime": {
     "end_time": "2020-05-19T07:54:38.954385Z",
     "start_time": "2020-05-19T07:54:38.734383Z"
    },
    "collapsed": true
   },
   "outputs": [],
   "source": [
    "df = pd.DataFrame(results)"
   ]
  },
  {
   "cell_type": "code",
   "execution_count": null,
   "metadata": {
    "ExecuteTime": {
     "end_time": "2020-05-19T08:06:04.283958Z",
     "start_time": "2020-05-19T08:06:04.251957Z"
    },
    "collapsed": true
   },
   "outputs": [],
   "source": [
    "df[28:33]"
   ]
  },
  {
   "cell_type": "code",
   "execution_count": null,
   "metadata": {
    "collapsed": true
   },
   "outputs": [],
   "source": []
  }
 ],
 "metadata": {
  "kernelspec": {
   "display_name": "Python 3",
   "language": "python",
   "name": "python3"
  },
  "language_info": {
   "codemirror_mode": {
    "name": "ipython",
    "version": 3
   },
   "file_extension": ".py",
   "mimetype": "text/x-python",
   "name": "python",
   "nbconvert_exporter": "python",
   "pygments_lexer": "ipython3",
   "version": "3.8.5"
  },
  "latex_envs": {
   "LaTeX_envs_menu_present": true,
   "autoclose": false,
   "autocomplete": true,
   "bibliofile": "biblio.bib",
   "cite_by": "apalike",
   "current_citInitial": 1,
   "eqLabelWithNumbers": true,
   "eqNumInitial": 1,
   "hotkeys": {
    "equation": "Ctrl-E",
    "itemize": "Ctrl-I"
   },
   "labels_anchors": false,
   "latex_user_defs": false,
   "report_style_numbering": false,
   "user_envs_cfg": false
  },
  "toc": {
   "base_numbering": 1,
   "nav_menu": {},
   "number_sections": true,
   "sideBar": true,
   "skip_h1_title": false,
   "title_cell": "Table of Contents",
   "title_sidebar": "Contents",
   "toc_cell": false,
   "toc_position": {},
   "toc_section_display": true,
   "toc_window_display": false
  },
  "varInspector": {
   "cols": {
    "lenName": 16,
    "lenType": 16,
    "lenVar": 40
   },
   "kernels_config": {
    "python": {
     "delete_cmd_postfix": "",
     "delete_cmd_prefix": "del ",
     "library": "var_list.py",
     "varRefreshCmd": "print(var_dic_list())"
    },
    "r": {
     "delete_cmd_postfix": ") ",
     "delete_cmd_prefix": "rm(",
     "library": "var_list.r",
     "varRefreshCmd": "cat(var_dic_list()) "
    }
   },
   "types_to_exclude": [
    "module",
    "function",
    "builtin_function_or_method",
    "instance",
    "_Feature"
   ],
   "window_display": false
  }
 },
 "nbformat": 4,
 "nbformat_minor": 2
}
